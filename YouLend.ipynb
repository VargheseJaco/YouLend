{
 "cells": [
  {
   "cell_type": "markdown",
   "metadata": {},
   "source": [
    "# Exploratory Data Analysis of Sales Information\n",
    "\n",
    "In this notebook, we will be exploring a dataset containing information about flower sales. "
   ]
  },
  {
   "cell_type": "code",
   "execution_count": 29,
   "metadata": {},
   "outputs": [],
   "source": [
    "from classes import DataTransform, DataFrameInfo, DatabaseConnector, Plotter\n",
    "import pandas as pd\n",
    "import seaborn as sns #importing relevant packages and classes"
   ]
  },
  {
   "cell_type": "markdown",
   "metadata": {},
   "source": [
    "We can extract the information stored within our CSV files into pandas DataFrames, letting us set datatypes, remove unnecessary columns and check for null entries."
   ]
  },
  {
   "cell_type": "code",
   "execution_count": 6,
   "metadata": {},
   "outputs": [
    {
     "name": "stdout",
     "output_type": "stream",
     "text": [
      "ID          0\n",
      "Category    0\n",
      "dtype: int64\n"
     ]
    }
   ],
   "source": [
    "item_category_key_df = pd.read_csv('item_category_key.csv')\n",
    "item_category_key_df.drop(columns='Unnamed: 0', inplace=True) #dropping unnecessary column\n",
    "\n",
    "print(DataFrameInfo(item_category_key_df).nan_count())"
   ]
  },
  {
   "cell_type": "code",
   "execution_count": 7,
   "metadata": {},
   "outputs": [
    {
     "name": "stdout",
     "output_type": "stream",
     "text": [
      "Date         0\n",
      "Unit Sold    0\n",
      "Item         0\n",
      "dtype: int64\n"
     ]
    }
   ],
   "source": [
    "item_sold_history_df = pd.read_csv('item_sold_history.csv')\n",
    "item_sold_history_df.drop(columns='Unnamed: 0', inplace=True) #dropping unnecessary column\n",
    "DataTransform(item_sold_history_df).to_date(['Date']) #setting datatype of column to datetime\n",
    "\n",
    "print(DataFrameInfo(item_sold_history_df).nan_count())"
   ]
  },
  {
   "cell_type": "markdown",
   "metadata": {},
   "source": [
    "We can merge the two DataFrames, item_sold_history_df and item_category_key_df, to produce a main table which contains 4 columns, the product ID, product category, date of sale and number of units sold in the transaction."
   ]
  },
  {
   "cell_type": "code",
   "execution_count": 23,
   "metadata": {},
   "outputs": [
    {
     "data": {
      "text/html": [
       "<div>\n",
       "<style scoped>\n",
       "    .dataframe tbody tr th:only-of-type {\n",
       "        vertical-align: middle;\n",
       "    }\n",
       "\n",
       "    .dataframe tbody tr th {\n",
       "        vertical-align: top;\n",
       "    }\n",
       "\n",
       "    .dataframe thead th {\n",
       "        text-align: right;\n",
       "    }\n",
       "</style>\n",
       "<table border=\"1\" class=\"dataframe\">\n",
       "  <thead>\n",
       "    <tr style=\"text-align: right;\">\n",
       "      <th></th>\n",
       "      <th>ID</th>\n",
       "      <th>category</th>\n",
       "      <th>date</th>\n",
       "      <th>units_sold</th>\n",
       "    </tr>\n",
       "  </thead>\n",
       "  <tbody>\n",
       "    <tr>\n",
       "      <th>0</th>\n",
       "      <td>it1000892</td>\n",
       "      <td>Lilies</td>\n",
       "      <td>2010-01-01</td>\n",
       "      <td>30</td>\n",
       "    </tr>\n",
       "    <tr>\n",
       "      <th>1</th>\n",
       "      <td>it1000892</td>\n",
       "      <td>Lilies</td>\n",
       "      <td>2010-01-02</td>\n",
       "      <td>14</td>\n",
       "    </tr>\n",
       "    <tr>\n",
       "      <th>2</th>\n",
       "      <td>it1000892</td>\n",
       "      <td>Lilies</td>\n",
       "      <td>2010-01-03</td>\n",
       "      <td>20</td>\n",
       "    </tr>\n",
       "    <tr>\n",
       "      <th>3</th>\n",
       "      <td>it1000892</td>\n",
       "      <td>Lilies</td>\n",
       "      <td>2010-01-04</td>\n",
       "      <td>28</td>\n",
       "    </tr>\n",
       "    <tr>\n",
       "      <th>4</th>\n",
       "      <td>it1000892</td>\n",
       "      <td>Lilies</td>\n",
       "      <td>2010-01-05</td>\n",
       "      <td>37</td>\n",
       "    </tr>\n",
       "  </tbody>\n",
       "</table>\n",
       "</div>"
      ],
      "text/plain": [
       "          ID category       date  units_sold\n",
       "0  it1000892   Lilies 2010-01-01          30\n",
       "1  it1000892   Lilies 2010-01-02          14\n",
       "2  it1000892   Lilies 2010-01-03          20\n",
       "3  it1000892   Lilies 2010-01-04          28\n",
       "4  it1000892   Lilies 2010-01-05          37"
      ]
     },
     "execution_count": 23,
     "metadata": {},
     "output_type": "execute_result"
    }
   ],
   "source": [
    "item_sold_history_df.rename(columns = {'Item' : 'ID'}, inplace = True) #renaming Item column to ID in order to merge tables\n",
    "\n",
    "merged_df = item_category_key_df.merge(item_sold_history_df, on = 'ID')\n",
    "merged_df.rename(columns = {'Unit Sold' : 'units_sold',\n",
    "                            'Category': 'category',\n",
    "                            'Date': 'date'}, inplace = True)\n",
    "merged_df.head(5)"
   ]
  },
  {
   "cell_type": "markdown",
   "metadata": {},
   "source": [
    "The merged DataFrame can be uploaded to a relational database, allowing for SQL statements to be executed on the data."
   ]
  },
  {
   "cell_type": "code",
   "execution_count": 24,
   "metadata": {},
   "outputs": [],
   "source": [
    "engine = DatabaseConnector.init_db_engine('db_creds.yaml')\n",
    "\n",
    "DatabaseConnector.upload_to_db(merged_df, 'sales_data', engine)"
   ]
  }
 ],
 "metadata": {
  "kernelspec": {
   "display_name": "youlend",
   "language": "python",
   "name": "python3"
  },
  "language_info": {
   "codemirror_mode": {
    "name": "ipython",
    "version": 3
   },
   "file_extension": ".py",
   "mimetype": "text/x-python",
   "name": "python",
   "nbconvert_exporter": "python",
   "pygments_lexer": "ipython3",
   "version": "3.12.2"
  }
 },
 "nbformat": 4,
 "nbformat_minor": 2
}
